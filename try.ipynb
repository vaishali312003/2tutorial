{
  "cells": [
    {
      "cell_type": "markdown",
      "metadata": {
        "id": "view-in-github",
        "colab_type": "text"
      },
      "source": [
        "<a href=\"https://colab.research.google.com/github/vaishali312003/2tutorial/blob/main/try.ipynb\" target=\"_parent\"><img src=\"https://colab.research.google.com/assets/colab-badge.svg\" alt=\"Open In Colab\"/></a>"
      ]
    },
    {
      "cell_type": "code",
      "execution_count": 1,
      "id": "f47d6f2f-1391-404f-896a-804c3a9abca6",
      "metadata": {
        "id": "f47d6f2f-1391-404f-896a-804c3a9abca6"
      },
      "outputs": [],
      "source": [
        "import os"
      ]
    },
    {
      "cell_type": "markdown",
      "source": [
        "# New Section"
      ],
      "metadata": {
        "id": "1aCsQU4kekFg"
      },
      "id": "1aCsQU4kekFg"
    },
    {
      "cell_type": "code",
      "execution_count": null,
      "id": "5a8241af-0289-4919-beae-05e3d4607d86",
      "metadata": {
        "scrolled": true,
        "id": "5a8241af-0289-4919-beae-05e3d4607d86"
      },
      "outputs": [],
      "source": [
        "pip install opencv-python"
      ]
    },
    {
      "cell_type": "code",
      "execution_count": null,
      "id": "57bc9645-5846-40fd-8552-d42afc8dd3de",
      "metadata": {
        "id": "57bc9645-5846-40fd-8552-d42afc8dd3de"
      },
      "outputs": [],
      "source": [
        "pip install opencv-python==4.3.0"
      ]
    },
    {
      "cell_type": "code",
      "execution_count": null,
      "id": "1b025077-f1f2-4f4e-9ba0-1f3c1dba242a",
      "metadata": {
        "id": "1b025077-f1f2-4f4e-9ba0-1f3c1dba242a"
      },
      "outputs": [],
      "source": [
        "pip install numpy\n"
      ]
    },
    {
      "cell_type": "code",
      "execution_count": null,
      "id": "9691952c-9192-4705-b5db-835f29695a6a",
      "metadata": {
        "id": "9691952c-9192-4705-b5db-835f29695a6a"
      },
      "outputs": [],
      "source": [
        "import numpy as np"
      ]
    },
    {
      "cell_type": "code",
      "execution_count": null,
      "id": "d6992397-85fe-4390-a31d-bd7c53b80f0d",
      "metadata": {
        "id": "d6992397-85fe-4390-a31d-bd7c53b80f0d"
      },
      "outputs": [],
      "source": [
        "pip install keras\n"
      ]
    },
    {
      "cell_type": "code",
      "execution_count": null,
      "id": "6d0d8b5d-3e92-4918-a130-42832e08cf73",
      "metadata": {
        "id": "6d0d8b5d-3e92-4918-a130-42832e08cf73"
      },
      "outputs": [],
      "source": [
        "from keras.models import Sequential\n"
      ]
    },
    {
      "cell_type": "code",
      "execution_count": null,
      "id": "56e8a582-2a57-4bf4-982e-5a529c94da1b",
      "metadata": {
        "id": "56e8a582-2a57-4bf4-982e-5a529c94da1b"
      },
      "outputs": [],
      "source": [
        "test_path='MACHINELERANING/archive/dataset/DATASET/TEST'\n",
        "train_path='MACHINELERANING/archive/dataset/DATASET/TRAIN'"
      ]
    },
    {
      "cell_type": "code",
      "execution_count": null,
      "id": "8ec0d555-91f5-459b-b2b7-5acc0f775223",
      "metadata": {
        "id": "8ec0d555-91f5-459b-b2b7-5acc0f775223"
      },
      "outputs": [],
      "source": [
        "import os\n",
        "\n",
        "def load_images_from_folder(folder_path):\n",
        "    images = []\n",
        "    for filename in os.listdir(folder_path):\n",
        "        img_path = os.path.join(folder_path, filename)\n",
        "        if os.path.isfile(img_path):\n",
        "            # Load the image using OpenCV or any other library\n",
        "            # Add code to load images here\n",
        "            images.append(img_path)\n",
        "    return images\n",
        "\n",
        "# Load images from the test directory\n",
        "test_images = load_images_from_folder(test_path)\n",
        "\n",
        "# Load images from the train directory\n",
        "train_images = load_images_from_folder(train_path)\n"
      ]
    },
    {
      "cell_type": "code",
      "execution_count": null,
      "id": "e965ee94-aabf-41d0-a70a-4ab30a2a9d70",
      "metadata": {
        "id": "e965ee94-aabf-41d0-a70a-4ab30a2a9d70"
      },
      "outputs": [],
      "source": [
        "images=[]"
      ]
    },
    {
      "cell_type": "code",
      "execution_count": null,
      "id": "885bea4e-a3a8-429a-9fb1-ac360d96a104",
      "metadata": {
        "id": "885bea4e-a3a8-429a-9fb1-ac360d96a104"
      },
      "outputs": [],
      "source": [
        "import os\n",
        "\n",
        "def list_files_and_directories(folder_path):\n",
        "    print(\"Listing files and directories in:\", folder_path)\n",
        "    for item in os.listdir(folder_path):\n",
        "        full_path = os.path.join(folder_path, item)\n",
        "        if os.path.isfile(full_path):\n",
        "            print(\"File:\", item)\n",
        "        elif os.path.isdir(full_path):\n",
        "            print(\"Directory:\", item)\n",
        "        else:\n",
        "            print(\"Unknown:\", item)\n",
        "\n",
        "# List files and directories in the test directory\n",
        "list_files_and_directories(test_path)\n",
        "\n",
        "# List files and directories in the train directory\n",
        "list_files_and_directories(train_path)\n"
      ]
    },
    {
      "cell_type": "code",
      "execution_count": null,
      "id": "a128b3e0-1b42-48d3-b1dd-b35fe3424372",
      "metadata": {
        "id": "a128b3e0-1b42-48d3-b1dd-b35fe3424372"
      },
      "outputs": [],
      "source": [
        "import os\n",
        "import cv2\n",
        "\n",
        "def display_images_from_folder(folder_path):\n",
        "    print(\"Displaying images from:\", folder_path)\n",
        "    for filename in os.listdir(folder_path):\n",
        "        img_path = os.path.join(folder_path, filename)\n",
        "        if os.path.isfile(img_path):\n",
        "            # Load the image using OpenCV\n",
        "            img = cv2.imread(img_path)\n",
        "            if img is not None:\n",
        "                # Display the image\n",
        "                cv2.imshow(filename, img)\n",
        "                cv2.waitKey(0)\n",
        "                cv2.destroyAllWindows()\n",
        "            else:\n",
        "                print(\"Unable to read image:\", img_path)\n",
        "\n",
        "# Display images from the test directory\n",
        "display_images_from_folder(test_path)\n",
        "\n",
        "# Display images from the train directory\n",
        "display_images_from_folder(train_path)\n"
      ]
    },
    {
      "cell_type": "code",
      "execution_count": null,
      "id": "c275b941-8f64-4852-8a60-00d09975ec96",
      "metadata": {
        "id": "c275b941-8f64-4852-8a60-00d09975ec96"
      },
      "outputs": [],
      "source": []
    },
    {
      "cell_type": "code",
      "execution_count": null,
      "id": "414c1cc0-a810-4eaf-8d8d-7e87c532a465",
      "metadata": {
        "id": "414c1cc0-a810-4eaf-8d8d-7e87c532a465"
      },
      "outputs": [],
      "source": []
    },
    {
      "cell_type": "code",
      "execution_count": null,
      "id": "1c3c437b-c637-4ad0-934f-0ab7449723ed",
      "metadata": {
        "id": "1c3c437b-c637-4ad0-934f-0ab7449723ed"
      },
      "outputs": [],
      "source": [
        "pip install scipy"
      ]
    },
    {
      "cell_type": "code",
      "execution_count": null,
      "id": "c3598051-a018-4a36-b3c0-565cb3b4d63a",
      "metadata": {
        "id": "c3598051-a018-4a36-b3c0-565cb3b4d63a"
      },
      "outputs": [],
      "source": []
    },
    {
      "cell_type": "code",
      "execution_count": null,
      "id": "a77e7195-b00b-4a6b-92fb-17def8097724",
      "metadata": {
        "scrolled": true,
        "id": "a77e7195-b00b-4a6b-92fb-17def8097724"
      },
      "outputs": [],
      "source": [
        "import os\n",
        "import cv2\n",
        "import numpy as np\n",
        "from tensorflow.keras.models import Sequential\n",
        "from tensorflow.keras.layers import Conv2D, MaxPooling2D, Flatten, Dense\n",
        "from tensorflow.keras.preprocessing.image import ImageDataGenerator\n",
        "\n",
        "# Define image directories and parameters\n",
        "train_dir_r = 'MACHINELERANING/archive/dataset/DATASET/TRAIN/R'\n",
        "train_dir_o = 'MACHINELERANING/archive/dataset/DATASET/TRAIN/O'\n",
        "test_dir_r = 'MACHINELERANING/archive/dataset/DATASET/TEST/R'\n",
        "test_dir_o = 'MACHINELERANING/archive/dataset/DATASET/TEST/O'\n",
        "img_height = 150\n",
        "img_width = 150\n",
        "batch_size = 32\n",
        "\n",
        "# Function to load images from a directory\n",
        "def load_images_from_folder(folder_path):\n",
        "    images = []\n",
        "    for filename in os.listdir(folder_path):\n",
        "        img_path = os.path.join(folder_path, filename)\n",
        "        if os.path.isfile(img_path):\n",
        "            # Load the image using OpenCV\n",
        "            img = cv2.imread(img_path)\n",
        "            if img is not None:\n",
        "                images.append(img)\n",
        "    return images\n",
        "\n",
        "# Load training and test images\n",
        "train_images_r = load_images_from_folder(train_dir_r)\n",
        "train_images_o = load_images_from_folder(train_dir_o)\n",
        "test_images_r = load_images_from_folder(test_dir_r)\n",
        "test_images_o = load_images_from_folder(test_dir_o)\n",
        "\n",
        "# Create labels for training and test data (1 for recyclable, 0 for non-recyclable)\n",
        "train_labels_r = np.ones(len(train_images_r))\n",
        "train_labels_o = np.zeros(len(train_images_o))\n",
        "test_labels_r = np.ones(len(test_images_r))\n",
        "test_labels_o = np.zeros(len(test_images_o))\n",
        "\n",
        "# Concatenate training and test data and labels\n",
        "X_train = np.concatenate((train_images_r, train_images_o), axis=0)\n",
        "y_train = np.concatenate((train_labels_r, train_labels_o), axis=0)\n",
        "X_test = np.concatenate((test_images_r, test_images_o), axis=0)\n",
        "y_test = np.concatenate((test_labels_r, test_labels_o), axis=0)\n",
        "\n",
        "# Normalize pixel values\n",
        "X_train = X_train / 255.0\n",
        "X_test = X_test / 255.0\n",
        "\n",
        "# Define CNN architecture\n",
        "model = Sequential([\n",
        "    Conv2D(32, (3, 3), activation='relu', input_shape=(img_height, img_width, 3)),\n",
        "    MaxPooling2D((2, 2)),\n",
        "    Conv2D(64, (3, 3), activation='relu'),\n",
        "    MaxPooling2D((2, 2)),\n",
        "    Conv2D(128, (3, 3), activation='relu'),\n",
        "    MaxPooling2D((2, 2)),\n",
        "    Flatten(),\n",
        "    Dense(512, activation='relu'),\n",
        "    Dense(1, activation='sigmoid')\n",
        "])\n",
        "\n",
        "# Compile the model\n",
        "model.compile(optimizer='adam', loss='binary_crossentropy', metrics=['accuracy'])\n",
        "\n",
        "# Train the model\n",
        "model.fit(X_train, y_train, epochs=10, batch_size=batch_size, validation_data=(X_test, y_test))\n",
        "\n",
        "# Evaluate the model\n",
        "test_loss, test_acc = model.evaluate(X_test, y_test)\n",
        "print('\\nTest accuracy:', test_acc)\n"
      ]
    },
    {
      "cell_type": "code",
      "execution_count": null,
      "id": "010188f4-b9db-4369-b7e6-9978cff7cf40",
      "metadata": {
        "id": "010188f4-b9db-4369-b7e6-9978cff7cf40"
      },
      "outputs": [],
      "source": []
    },
    {
      "cell_type": "code",
      "execution_count": null,
      "id": "306a01a7-3857-480a-808e-6b8a99fce300",
      "metadata": {
        "id": "306a01a7-3857-480a-808e-6b8a99fce300"
      },
      "outputs": [],
      "source": [
        "# Save the entire model in the native Keras format\n",
        "model.save('my_model.keras')\n"
      ]
    },
    {
      "cell_type": "code",
      "execution_count": null,
      "id": "9b91eeff-7b1f-48d6-8e1c-2a84fcd6bf21",
      "metadata": {
        "id": "9b91eeff-7b1f-48d6-8e1c-2a84fcd6bf21"
      },
      "outputs": [],
      "source": [
        "pip install matplotlib"
      ]
    },
    {
      "cell_type": "code",
      "execution_count": null,
      "id": "5a8ca2ab-f4d0-4c38-b838-94e9014fd04a",
      "metadata": {
        "id": "5a8ca2ab-f4d0-4c38-b838-94e9014fd04a"
      },
      "outputs": [],
      "source": [
        "import matplotlib.pyplot as plt\n",
        "\n",
        "# Plot training history\n",
        "plt.plot(history.history['accuracy'], label='Training Accuracy')\n",
        "plt.plot(history.history['val_accuracy'], label='Validation Accuracy')\n",
        "plt.xlabel('Epoch')\n",
        "plt.ylabel('Accuracy')\n",
        "plt.legend()\n",
        "plt.show()\n",
        "\n",
        "plt.plot(history.history['loss'], label='Training Loss')\n",
        "plt.plot(history.history['val_loss'], label='Validation Loss')\n",
        "plt.xlabel('Epoch')\n",
        "plt.ylabel('Loss')\n",
        "plt.legend()\n",
        "plt.show()\n"
      ]
    },
    {
      "cell_type": "code",
      "execution_count": null,
      "id": "35a543e1-abc8-408d-acb0-3de39d08b3d4",
      "metadata": {
        "id": "35a543e1-abc8-408d-acb0-3de39d08b3d4"
      },
      "outputs": [],
      "source": [
        "# Assuming new_data_generator is a data generator for new images\n",
        "predictions = model.predict(new_data_generator)\n"
      ]
    },
    {
      "cell_type": "code",
      "execution_count": null,
      "id": "5bc48ef6-3786-43a6-a70a-473885d1d3c4",
      "metadata": {
        "id": "5bc48ef6-3786-43a6-a70a-473885d1d3c4"
      },
      "outputs": [],
      "source": [
        "import numpy as np\n",
        "\n",
        "# Generate dummy data as an example\n",
        "num_samples = 10  # Number of samples\n",
        "img_height = 150\n",
        "img_width = 150\n",
        "num_channels = 3  # Assuming RGB images\n",
        "\n",
        "# Create a dummy NumPy array representing new data\n",
        "new_data = np.random.rand(num_samples, img_height, img_width, num_channels)\n",
        "\n",
        "# Use the model to make predictions on the new data\n",
        "predictions = model.predict(new_data)\n"
      ]
    },
    {
      "cell_type": "code",
      "execution_count": null,
      "id": "32814468-21e2-4ff7-9d07-723dbe66ad35",
      "metadata": {
        "id": "32814468-21e2-4ff7-9d07-723dbe66ad35"
      },
      "outputs": [],
      "source": [
        "from tensorflow.keras.preprocessing.image import load_img, img_to_array\n",
        "\n",
        "# Load and preprocess new images\n",
        "def preprocess_image(image_path):\n",
        "    img = load_img(image_path, target_size=(img_height, img_width))\n",
        "    img_array = img_to_array(img) / 255.0  # Rescale pixel values to [0, 1]\n",
        "    return img_array\n",
        "\n",
        "# Example usage:\n",
        "new_image_path = 'test3.jpeg'\n",
        "preprocessed_image = preprocess_image(new_image_path)\n"
      ]
    },
    {
      "cell_type": "code",
      "execution_count": null,
      "id": "ddd29b2b-7cdf-4fab-8c0b-8380a7c76bf5",
      "metadata": {
        "id": "ddd29b2b-7cdf-4fab-8c0b-8380a7c76bf5"
      },
      "outputs": [],
      "source": [
        "import numpy as np\n",
        "\n",
        "# Make predictions\n",
        "prediction = model.predict(np.expand_dims(preprocessed_image, axis=0))\n",
        "if prediction >= 0.5:\n",
        "    print(\"The image is classified as decomposable.\")\n",
        "else:\n",
        "    print(\"The image is classified as non-decomposable.\")\n"
      ]
    },
    {
      "cell_type": "code",
      "execution_count": null,
      "id": "ccab7e4b-1b41-40ba-880d-3dd71a6b4d2a",
      "metadata": {
        "id": "ccab7e4b-1b41-40ba-880d-3dd71a6b4d2a"
      },
      "outputs": [],
      "source": [
        "# Assuming you have preprocessed the images and assigned labels\n",
        "\n",
        "# Create a new data generator for training\n",
        "new_train_datagen = ImageDataGenerator(rescale=1./255)\n",
        "new_train_generator = new_train_datagen.flow_from_directory(\n",
        "    'decomposible',\n",
        "    target_size=(img_height, img_width),\n",
        "    batch_size=batch_size,\n",
        "    class_mode='binary',  # Since there are only two classes (decomposable and non-decomposable)\n",
        "    shuffle=True  # Shuffle the data for better training\n",
        ")\n",
        "\n",
        "# Fine-tune the model\n",
        "history = model.fit(\n",
        "    new_train_generator,\n",
        "    steps_per_epoch=new_train_generator.samples // batch_size,\n",
        "    epochs=5,  # Adjust as needed\n",
        "    validation_data=test_generator,\n",
        "    validation_steps=test_generator.samples // batch_size\n",
        ")\n",
        "\n",
        "# Evaluate the model on the test data\n",
        "test_loss, test_acc = model.evaluate(test_generator)\n",
        "print('\\nTest accuracy:', test_acc)\n"
      ]
    },
    {
      "cell_type": "code",
      "execution_count": null,
      "id": "8aaab468-ba26-4c36-bb13-85a3f4dcb883",
      "metadata": {
        "id": "8aaab468-ba26-4c36-bb13-85a3f4dcb883"
      },
      "outputs": [],
      "source": [
        "from keras.models import Sequential\n",
        "from keras.layers import Conv2D, MaxPooling2D, Dense, Flatten, Input, Dropout\n",
        "\n",
        "# Defining the model\n",
        "\n",
        "model = Sequential([\n",
        "\n",
        "    Conv2D(32, (3, 3), activation=\"relu\", input_shape = (150, 150, 3)),\n",
        "\n",
        "    MaxPooling2D((2, 2)),\n",
        "\n",
        "    Conv2D(64, (3, 3), activation=\"relu\"),\n",
        "\n",
        "    MaxPooling2D((2, 2)),\n",
        "\n",
        "    Conv2D(128, (3, 3), activation=\"relu\"),\n",
        "\n",
        "    MaxPooling2D((2, 2)),\n",
        "\n",
        "    Flatten(),\n",
        "\n",
        "    Dropout(0.2),\n",
        "\n",
        "    Dense(512, activation=\"relu\"),\n",
        "\n",
        "    Dense(1, activation=\"softmax\")\n",
        "\n",
        "])\n",
        "\n",
        "\n",
        "# Compiling the model\n",
        "model.compile(optimizer=\"adam\", loss=\"binary_crossentropy\", metrics=[\"accuracy\"])"
      ]
    }
  ],
  "metadata": {
    "kernelspec": {
      "display_name": "Python 3 (ipykernel)",
      "language": "python",
      "name": "python3"
    },
    "language_info": {
      "codemirror_mode": {
        "name": "ipython",
        "version": 3
      },
      "file_extension": ".py",
      "mimetype": "text/x-python",
      "name": "python",
      "nbconvert_exporter": "python",
      "pygments_lexer": "ipython3",
      "version": "3.10.12"
    },
    "colab": {
      "provenance": [],
      "include_colab_link": true
    }
  },
  "nbformat": 4,
  "nbformat_minor": 5
}